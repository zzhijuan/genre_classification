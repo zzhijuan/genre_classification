{
 "cells": [
  {
   "cell_type": "markdown",
   "id": "5844ef59",
   "metadata": {},
   "source": [
    "# Import Weights & Biases"
   ]
  },
  {
   "cell_type": "code",
   "execution_count": 1,
   "id": "c6d177b2",
   "metadata": {},
   "outputs": [],
   "source": [
    "import wandb"
   ]
  },
  {
   "cell_type": "markdown",
   "id": "e7e89a57",
   "metadata": {},
   "source": [
    "# Create an artifact\n",
    "(pretend it is the output of a component)"
   ]
  },
  {
   "cell_type": "code",
   "execution_count": 2,
   "id": "4618e466",
   "metadata": {},
   "outputs": [],
   "source": [
    "with open(\"my_artifact.txt\", \"w+\") as fp:\n",
    "    fp.write(\"This is an example of an artifact\")"
   ]
  },
  {
   "cell_type": "code",
   "execution_count": 3,
   "id": "f8d8a89b",
   "metadata": {},
   "outputs": [
    {
     "name": "stdout",
     "output_type": "stream",
     "text": [
      "Upload and version artifacts-Copy1.ipynb\n",
      "Upload and version artifacts.ipynb\n",
      "my_artifact.txt\n"
     ]
    }
   ],
   "source": [
    "!ls"
   ]
  },
  {
   "cell_type": "markdown",
   "id": "da436402",
   "metadata": {},
   "source": [
    "# Upload to W&B"
   ]
  },
  {
   "cell_type": "code",
   "execution_count": 4,
   "id": "967fa080",
   "metadata": {},
   "outputs": [
    {
     "name": "stderr",
     "output_type": "stream",
     "text": [
      "\u001b[34m\u001b[1mwandb\u001b[0m: Using wandb-core as the SDK backend.  Please refer to https://wandb.me/wandb-core for more information.\n",
      "\u001b[34m\u001b[1mwandb\u001b[0m: Currently logged in as: \u001b[33mzzhijuan\u001b[0m (\u001b[33mzzhijuan-university-of-houston\u001b[0m). Use \u001b[1m`wandb login --relogin`\u001b[0m to force relogin\n"
     ]
    },
    {
     "data": {
      "text/html": [
       "Tracking run with wandb version 0.19.1"
      ],
      "text/plain": [
       "<IPython.core.display.HTML object>"
      ]
     },
     "metadata": {},
     "output_type": "display_data"
    },
    {
     "data": {
      "text/html": [
       "Run data is saved locally in <code>/Users/zhijuanzhang/Documents/UdacityCourse/MLOps_P2_Reproducible_Pipeline/Exercise/lesson-1-machine-learning-pipelines/demo/wandb/run-20250110_161639-b2sy38nv</code>"
      ],
      "text/plain": [
       "<IPython.core.display.HTML object>"
      ]
     },
     "metadata": {},
     "output_type": "display_data"
    },
    {
     "data": {
      "text/html": [
       "Syncing run <strong><a href='https://wandb.ai/zzhijuan-university-of-houston/demo_artifact_1/runs/b2sy38nv' target=\"_blank\">lucky-bird-1</a></strong> to <a href='https://wandb.ai/zzhijuan-university-of-houston/demo_artifact_1' target=\"_blank\">Weights & Biases</a> (<a href='https://wandb.me/developer-guide' target=\"_blank\">docs</a>)<br>"
      ],
      "text/plain": [
       "<IPython.core.display.HTML object>"
      ]
     },
     "metadata": {},
     "output_type": "display_data"
    },
    {
     "data": {
      "text/html": [
       " View project at <a href='https://wandb.ai/zzhijuan-university-of-houston/demo_artifact_1' target=\"_blank\">https://wandb.ai/zzhijuan-university-of-houston/demo_artifact_1</a>"
      ],
      "text/plain": [
       "<IPython.core.display.HTML object>"
      ]
     },
     "metadata": {},
     "output_type": "display_data"
    },
    {
     "data": {
      "text/html": [
       " View run at <a href='https://wandb.ai/zzhijuan-university-of-houston/demo_artifact_1/runs/b2sy38nv' target=\"_blank\">https://wandb.ai/zzhijuan-university-of-houston/demo_artifact_1/runs/b2sy38nv</a>"
      ],
      "text/plain": [
       "<IPython.core.display.HTML object>"
      ]
     },
     "metadata": {},
     "output_type": "display_data"
    }
   ],
   "source": [
    "run = wandb.init(project=\"demo_artifact_1\", group=\"experiment_1\")"
   ]
  },
  {
   "cell_type": "code",
   "execution_count": 5,
   "id": "a9b7ca0b",
   "metadata": {},
   "outputs": [],
   "source": [
    "artifact = wandb.Artifact(\n",
    "    name=\"my_artifact.txt\", \n",
    "    type=\"data\", \n",
    "    description=\"This is an example of an artifact\",\n",
    "    metadata={\n",
    "        \"key_1\": \"value_1\"\n",
    "    }\n",
    ")"
   ]
  },
  {
   "cell_type": "code",
   "execution_count": 6,
   "id": "8cd70539",
   "metadata": {},
   "outputs": [
    {
     "data": {
      "text/plain": [
       "ArtifactManifestEntry(path='my_artifact.txt', digest='bStOq42zZ7Ka3e5ArNjTIg==', size=33, local_path='/Users/zhijuanzhang/Library/Application Support/wandb/artifacts/staging/tmpfzkpajfz', skip_cache=False)"
      ]
     },
     "execution_count": 6,
     "metadata": {},
     "output_type": "execute_result"
    }
   ],
   "source": [
    "artifact.add_file(\"my_artifact.txt\")"
   ]
  },
  {
   "cell_type": "code",
   "execution_count": 7,
   "id": "cdd3534f",
   "metadata": {},
   "outputs": [
    {
     "name": "stderr",
     "output_type": "stream",
     "text": [
      "\u001b[34m\u001b[1mwandb\u001b[0m: \u001b[33mWARNING\u001b[0m A graphql request initiated by the public wandb API timed out (timeout=19 sec). Create a new API with an integer timeout larger than 19, e.g., `api = wandb.Api(timeout=29)` to increase the graphql timeout.\n",
      "\u001b[34m\u001b[1mwandb\u001b[0m: \u001b[33mWARNING\u001b[0m A graphql request initiated by the public wandb API timed out (timeout=19 sec). Create a new API with an integer timeout larger than 19, e.g., `api = wandb.Api(timeout=29)` to increase the graphql timeout.\n"
     ]
    },
    {
     "data": {
      "text/plain": [
       "<Artifact my_artifact.txt>"
      ]
     },
     "execution_count": 7,
     "metadata": {},
     "output_type": "execute_result"
    }
   ],
   "source": [
    "run.log_artifact(artifact)"
   ]
  },
  {
   "cell_type": "code",
   "execution_count": 8,
   "id": "34e62a4c",
   "metadata": {},
   "outputs": [
    {
     "data": {
      "text/html": [],
      "text/plain": [
       "<IPython.core.display.HTML object>"
      ]
     },
     "metadata": {},
     "output_type": "display_data"
    },
    {
     "data": {
      "text/html": [
       " View run <strong style=\"color:#cdcd00\">lucky-bird-1</strong> at: <a href='https://wandb.ai/zzhijuan-university-of-houston/demo_artifact_1/runs/b2sy38nv' target=\"_blank\">https://wandb.ai/zzhijuan-university-of-houston/demo_artifact_1/runs/b2sy38nv</a><br> View project at: <a href='https://wandb.ai/zzhijuan-university-of-houston/demo_artifact_1' target=\"_blank\">https://wandb.ai/zzhijuan-university-of-houston/demo_artifact_1</a><br>Synced 5 W&B file(s), 0 media file(s), 2 artifact file(s) and 0 other file(s)"
      ],
      "text/plain": [
       "<IPython.core.display.HTML object>"
      ]
     },
     "metadata": {},
     "output_type": "display_data"
    },
    {
     "data": {
      "text/html": [
       "Find logs at: <code>./wandb/run-20250110_161639-b2sy38nv/logs</code>"
      ],
      "text/plain": [
       "<IPython.core.display.HTML object>"
      ]
     },
     "metadata": {},
     "output_type": "display_data"
    }
   ],
   "source": [
    "run.finish()"
   ]
  },
  {
   "cell_type": "markdown",
   "id": "06fb6d0b",
   "metadata": {},
   "source": [
    "# Generate a new version by changing the artifact"
   ]
  },
  {
   "cell_type": "code",
   "execution_count": 9,
   "id": "e06e1b99",
   "metadata": {},
   "outputs": [
    {
     "data": {
      "text/html": [
       "Tracking run with wandb version 0.19.1"
      ],
      "text/plain": [
       "<IPython.core.display.HTML object>"
      ]
     },
     "metadata": {},
     "output_type": "display_data"
    },
    {
     "data": {
      "text/html": [
       "Run data is saved locally in <code>/Users/zhijuanzhang/Documents/UdacityCourse/MLOps_P2_Reproducible_Pipeline/Exercise/lesson-1-machine-learning-pipelines/demo/wandb/run-20250112_155939-2d0a4cka</code>"
      ],
      "text/plain": [
       "<IPython.core.display.HTML object>"
      ]
     },
     "metadata": {},
     "output_type": "display_data"
    },
    {
     "data": {
      "text/html": [
       "Syncing run <strong><a href='https://wandb.ai/zzhijuan-university-of-houston/demo_artifact_1/runs/2d0a4cka' target=\"_blank\">rural-dust-2</a></strong> to <a href='https://wandb.ai/zzhijuan-university-of-houston/demo_artifact_1' target=\"_blank\">Weights & Biases</a> (<a href='https://wandb.me/developer-guide' target=\"_blank\">docs</a>)<br>"
      ],
      "text/plain": [
       "<IPython.core.display.HTML object>"
      ]
     },
     "metadata": {},
     "output_type": "display_data"
    },
    {
     "data": {
      "text/html": [
       " View project at <a href='https://wandb.ai/zzhijuan-university-of-houston/demo_artifact_1' target=\"_blank\">https://wandb.ai/zzhijuan-university-of-houston/demo_artifact_1</a>"
      ],
      "text/plain": [
       "<IPython.core.display.HTML object>"
      ]
     },
     "metadata": {},
     "output_type": "display_data"
    },
    {
     "data": {
      "text/html": [
       " View run at <a href='https://wandb.ai/zzhijuan-university-of-houston/demo_artifact_1/runs/2d0a4cka' target=\"_blank\">https://wandb.ai/zzhijuan-university-of-houston/demo_artifact_1/runs/2d0a4cka</a>"
      ],
      "text/plain": [
       "<IPython.core.display.HTML object>"
      ]
     },
     "metadata": {},
     "output_type": "display_data"
    },
    {
     "data": {
      "text/plain": [
       "<Artifact my_artifact.txt>"
      ]
     },
     "execution_count": 9,
     "metadata": {},
     "output_type": "execute_result"
    }
   ],
   "source": [
    "with open(\"my_artifact.txt\", \"w+\") as fp:\n",
    "    fp.write(\"This is an example of an artifact changed\")\n",
    "\n",
    "run = wandb.init(project=\"demo_artifact_1\", group=\"experiment_1\")\n",
    "\n",
    "artifact = wandb.Artifact(\n",
    "    name=\"my_artifact.txt\", \n",
    "    type=\"data\", \n",
    "    description=\"This is an example of an artifact\",\n",
    "    metadata={\n",
    "        \"key_1\": \"value_1\"\n",
    "    }\n",
    ")\n",
    "artifact.add_file(\"my_artifact.txt\")\n",
    "run.log_artifact(artifact)\n"
   ]
  },
  {
   "cell_type": "code",
   "execution_count": 10,
   "id": "92e06460",
   "metadata": {},
   "outputs": [
    {
     "data": {
      "text/html": [],
      "text/plain": [
       "<IPython.core.display.HTML object>"
      ]
     },
     "metadata": {},
     "output_type": "display_data"
    },
    {
     "data": {
      "text/html": [
       " View run <strong style=\"color:#cdcd00\">rural-dust-2</strong> at: <a href='https://wandb.ai/zzhijuan-university-of-houston/demo_artifact_1/runs/2d0a4cka' target=\"_blank\">https://wandb.ai/zzhijuan-university-of-houston/demo_artifact_1/runs/2d0a4cka</a><br> View project at: <a href='https://wandb.ai/zzhijuan-university-of-houston/demo_artifact_1' target=\"_blank\">https://wandb.ai/zzhijuan-university-of-houston/demo_artifact_1</a><br>Synced 5 W&B file(s), 0 media file(s), 2 artifact file(s) and 0 other file(s)"
      ],
      "text/plain": [
       "<IPython.core.display.HTML object>"
      ]
     },
     "metadata": {},
     "output_type": "display_data"
    },
    {
     "data": {
      "text/html": [
       "Find logs at: <code>./wandb/run-20250112_155939-2d0a4cka/logs</code>"
      ],
      "text/plain": [
       "<IPython.core.display.HTML object>"
      ]
     },
     "metadata": {},
     "output_type": "display_data"
    }
   ],
   "source": [
    "run.finish()"
   ]
  },
  {
   "cell_type": "markdown",
   "id": "5f840433",
   "metadata": {},
   "source": [
    "# Re-upload the same artifact\n",
    "(the version will not change)"
   ]
  },
  {
   "cell_type": "code",
   "execution_count": 11,
   "id": "9bd1b7e4",
   "metadata": {},
   "outputs": [
    {
     "data": {
      "text/html": [
       "Tracking run with wandb version 0.19.1"
      ],
      "text/plain": [
       "<IPython.core.display.HTML object>"
      ]
     },
     "metadata": {},
     "output_type": "display_data"
    },
    {
     "data": {
      "text/html": [
       "Run data is saved locally in <code>/Users/zhijuanzhang/Documents/UdacityCourse/MLOps_P2_Reproducible_Pipeline/Exercise/lesson-1-machine-learning-pipelines/demo/wandb/run-20250112_155945-1t4eq6s6</code>"
      ],
      "text/plain": [
       "<IPython.core.display.HTML object>"
      ]
     },
     "metadata": {},
     "output_type": "display_data"
    },
    {
     "data": {
      "text/html": [
       "Syncing run <strong><a href='https://wandb.ai/zzhijuan-university-of-houston/demo_artifact_1/runs/1t4eq6s6' target=\"_blank\">misunderstood-donkey-3</a></strong> to <a href='https://wandb.ai/zzhijuan-university-of-houston/demo_artifact_1' target=\"_blank\">Weights & Biases</a> (<a href='https://wandb.me/developer-guide' target=\"_blank\">docs</a>)<br>"
      ],
      "text/plain": [
       "<IPython.core.display.HTML object>"
      ]
     },
     "metadata": {},
     "output_type": "display_data"
    },
    {
     "data": {
      "text/html": [
       " View project at <a href='https://wandb.ai/zzhijuan-university-of-houston/demo_artifact_1' target=\"_blank\">https://wandb.ai/zzhijuan-university-of-houston/demo_artifact_1</a>"
      ],
      "text/plain": [
       "<IPython.core.display.HTML object>"
      ]
     },
     "metadata": {},
     "output_type": "display_data"
    },
    {
     "data": {
      "text/html": [
       " View run at <a href='https://wandb.ai/zzhijuan-university-of-houston/demo_artifact_1/runs/1t4eq6s6' target=\"_blank\">https://wandb.ai/zzhijuan-university-of-houston/demo_artifact_1/runs/1t4eq6s6</a>"
      ],
      "text/plain": [
       "<IPython.core.display.HTML object>"
      ]
     },
     "metadata": {},
     "output_type": "display_data"
    },
    {
     "data": {
      "text/html": [],
      "text/plain": [
       "<IPython.core.display.HTML object>"
      ]
     },
     "metadata": {},
     "output_type": "display_data"
    },
    {
     "data": {
      "text/html": [
       " View run <strong style=\"color:#cdcd00\">misunderstood-donkey-3</strong> at: <a href='https://wandb.ai/zzhijuan-university-of-houston/demo_artifact_1/runs/1t4eq6s6' target=\"_blank\">https://wandb.ai/zzhijuan-university-of-houston/demo_artifact_1/runs/1t4eq6s6</a><br> View project at: <a href='https://wandb.ai/zzhijuan-university-of-houston/demo_artifact_1' target=\"_blank\">https://wandb.ai/zzhijuan-university-of-houston/demo_artifact_1</a><br>Synced 5 W&B file(s), 0 media file(s), 0 artifact file(s) and 0 other file(s)"
      ],
      "text/plain": [
       "<IPython.core.display.HTML object>"
      ]
     },
     "metadata": {},
     "output_type": "display_data"
    },
    {
     "data": {
      "text/html": [
       "Find logs at: <code>./wandb/run-20250112_155945-1t4eq6s6/logs</code>"
      ],
      "text/plain": [
       "<IPython.core.display.HTML object>"
      ]
     },
     "metadata": {},
     "output_type": "display_data"
    }
   ],
   "source": [
    "with open(\"my_artifact.txt\", \"w+\") as fp:\n",
    "    fp.write(\"This is an example of an artifact changed\")\n",
    "\n",
    "run = wandb.init(project=\"demo_artifact_1\", group=\"experiment_1\")\n",
    "\n",
    "artifact = wandb.Artifact(\n",
    "    name=\"my_artifact.txt\", \n",
    "    type=\"data\", \n",
    "    description=\"This is an example of an artifact\",\n",
    "    metadata={\n",
    "        \"key_1\": \"value_1\"\n",
    "    }\n",
    ")\n",
    "artifact.add_file(\"my_artifact.txt\")\n",
    "run.log_artifact(artifact)\n",
    "run.finish()"
   ]
  },
  {
   "cell_type": "markdown",
   "id": "2c27c7e5",
   "metadata": {},
   "source": [
    "# Using runs with context managers\n",
    "(show that the version does not change even across multiple runs if the artifact does not change)"
   ]
  },
  {
   "cell_type": "code",
   "execution_count": 12,
   "id": "b63d3ff3",
   "metadata": {},
   "outputs": [
    {
     "data": {
      "text/html": [
       "Tracking run with wandb version 0.19.1"
      ],
      "text/plain": [
       "<IPython.core.display.HTML object>"
      ]
     },
     "metadata": {},
     "output_type": "display_data"
    },
    {
     "data": {
      "text/html": [
       "Run data is saved locally in <code>/Users/zhijuanzhang/Documents/UdacityCourse/MLOps_P2_Reproducible_Pipeline/Exercise/lesson-1-machine-learning-pipelines/demo/wandb/run-20250112_155947-d9kooh5o</code>"
      ],
      "text/plain": [
       "<IPython.core.display.HTML object>"
      ]
     },
     "metadata": {},
     "output_type": "display_data"
    },
    {
     "data": {
      "text/html": [
       "Syncing run <strong><a href='https://wandb.ai/zzhijuan-university-of-houston/multiple_runs/runs/d9kooh5o' target=\"_blank\">warm-armadillo-1</a></strong> to <a href='https://wandb.ai/zzhijuan-university-of-houston/multiple_runs' target=\"_blank\">Weights & Biases</a> (<a href='https://wandb.me/developer-guide' target=\"_blank\">docs</a>)<br>"
      ],
      "text/plain": [
       "<IPython.core.display.HTML object>"
      ]
     },
     "metadata": {},
     "output_type": "display_data"
    },
    {
     "data": {
      "text/html": [
       " View project at <a href='https://wandb.ai/zzhijuan-university-of-houston/multiple_runs' target=\"_blank\">https://wandb.ai/zzhijuan-university-of-houston/multiple_runs</a>"
      ],
      "text/plain": [
       "<IPython.core.display.HTML object>"
      ]
     },
     "metadata": {},
     "output_type": "display_data"
    },
    {
     "data": {
      "text/html": [
       " View run at <a href='https://wandb.ai/zzhijuan-university-of-houston/multiple_runs/runs/d9kooh5o' target=\"_blank\">https://wandb.ai/zzhijuan-university-of-houston/multiple_runs/runs/d9kooh5o</a>"
      ],
      "text/plain": [
       "<IPython.core.display.HTML object>"
      ]
     },
     "metadata": {},
     "output_type": "display_data"
    },
    {
     "data": {
      "text/html": [],
      "text/plain": [
       "<IPython.core.display.HTML object>"
      ]
     },
     "metadata": {},
     "output_type": "display_data"
    },
    {
     "data": {
      "text/html": [
       " View run <strong style=\"color:#cdcd00\">warm-armadillo-1</strong> at: <a href='https://wandb.ai/zzhijuan-university-of-houston/multiple_runs/runs/d9kooh5o' target=\"_blank\">https://wandb.ai/zzhijuan-university-of-houston/multiple_runs/runs/d9kooh5o</a><br> View project at: <a href='https://wandb.ai/zzhijuan-university-of-houston/multiple_runs' target=\"_blank\">https://wandb.ai/zzhijuan-university-of-houston/multiple_runs</a><br>Synced 5 W&B file(s), 0 media file(s), 0 artifact file(s) and 0 other file(s)"
      ],
      "text/plain": [
       "<IPython.core.display.HTML object>"
      ]
     },
     "metadata": {},
     "output_type": "display_data"
    },
    {
     "data": {
      "text/html": [
       "Find logs at: <code>./wandb/run-20250112_155947-d9kooh5o/logs</code>"
      ],
      "text/plain": [
       "<IPython.core.display.HTML object>"
      ]
     },
     "metadata": {},
     "output_type": "display_data"
    },
    {
     "data": {
      "text/html": [
       "Tracking run with wandb version 0.19.1"
      ],
      "text/plain": [
       "<IPython.core.display.HTML object>"
      ]
     },
     "metadata": {},
     "output_type": "display_data"
    },
    {
     "data": {
      "text/html": [
       "Run data is saved locally in <code>/Users/zhijuanzhang/Documents/UdacityCourse/MLOps_P2_Reproducible_Pipeline/Exercise/lesson-1-machine-learning-pipelines/demo/wandb/run-20250112_155949-6u472lck</code>"
      ],
      "text/plain": [
       "<IPython.core.display.HTML object>"
      ]
     },
     "metadata": {},
     "output_type": "display_data"
    },
    {
     "data": {
      "text/html": [
       "Syncing run <strong><a href='https://wandb.ai/zzhijuan-university-of-houston/multiple_runs/runs/6u472lck' target=\"_blank\">snowy-microwave-2</a></strong> to <a href='https://wandb.ai/zzhijuan-university-of-houston/multiple_runs' target=\"_blank\">Weights & Biases</a> (<a href='https://wandb.me/developer-guide' target=\"_blank\">docs</a>)<br>"
      ],
      "text/plain": [
       "<IPython.core.display.HTML object>"
      ]
     },
     "metadata": {},
     "output_type": "display_data"
    },
    {
     "data": {
      "text/html": [
       " View project at <a href='https://wandb.ai/zzhijuan-university-of-houston/multiple_runs' target=\"_blank\">https://wandb.ai/zzhijuan-university-of-houston/multiple_runs</a>"
      ],
      "text/plain": [
       "<IPython.core.display.HTML object>"
      ]
     },
     "metadata": {},
     "output_type": "display_data"
    },
    {
     "data": {
      "text/html": [
       " View run at <a href='https://wandb.ai/zzhijuan-university-of-houston/multiple_runs/runs/6u472lck' target=\"_blank\">https://wandb.ai/zzhijuan-university-of-houston/multiple_runs/runs/6u472lck</a>"
      ],
      "text/plain": [
       "<IPython.core.display.HTML object>"
      ]
     },
     "metadata": {},
     "output_type": "display_data"
    },
    {
     "data": {
      "text/html": [],
      "text/plain": [
       "<IPython.core.display.HTML object>"
      ]
     },
     "metadata": {},
     "output_type": "display_data"
    },
    {
     "data": {
      "text/html": [
       " View run <strong style=\"color:#cdcd00\">snowy-microwave-2</strong> at: <a href='https://wandb.ai/zzhijuan-university-of-houston/multiple_runs/runs/6u472lck' target=\"_blank\">https://wandb.ai/zzhijuan-university-of-houston/multiple_runs/runs/6u472lck</a><br> View project at: <a href='https://wandb.ai/zzhijuan-university-of-houston/multiple_runs' target=\"_blank\">https://wandb.ai/zzhijuan-university-of-houston/multiple_runs</a><br>Synced 5 W&B file(s), 0 media file(s), 0 artifact file(s) and 0 other file(s)"
      ],
      "text/plain": [
       "<IPython.core.display.HTML object>"
      ]
     },
     "metadata": {},
     "output_type": "display_data"
    },
    {
     "data": {
      "text/html": [
       "Find logs at: <code>./wandb/run-20250112_155949-6u472lck/logs</code>"
      ],
      "text/plain": [
       "<IPython.core.display.HTML object>"
      ]
     },
     "metadata": {},
     "output_type": "display_data"
    }
   ],
   "source": [
    "with wandb.init(project=\"multiple_runs\") as run:\n",
    "    \n",
    "    artifact = wandb.Artifact(\n",
    "    name=\"my_artifact.txt\", \n",
    "    type=\"data\", \n",
    "    description=\"This is an example of an artifact\",\n",
    "    metadata={\n",
    "        \"key_1\": \"value_1\"\n",
    "    }\n",
    "    )\n",
    "    artifact.add_file(\"my_artifact.txt\")\n",
    "\n",
    "with wandb.init(project=\"multiple_runs\") as run:\n",
    "    \n",
    "    artifact = wandb.Artifact(\n",
    "    name=\"my_artifact.txt\", \n",
    "    type=\"data\", \n",
    "    description=\"This is an example of an artifact\",\n",
    "    metadata={\n",
    "        \"key_1\": \"value_1\"\n",
    "    }\n",
    "    )\n",
    "    artifact.add_file(\"my_artifact.txt\")"
   ]
  },
  {
   "cell_type": "code",
   "execution_count": null,
   "id": "03015755",
   "metadata": {},
   "outputs": [],
   "source": []
  }
 ],
 "metadata": {
  "kernelspec": {
   "display_name": "mlops",
   "language": "python",
   "name": "mlops"
  },
  "language_info": {
   "codemirror_mode": {
    "name": "ipython",
    "version": 3
   },
   "file_extension": ".py",
   "mimetype": "text/x-python",
   "name": "python",
   "nbconvert_exporter": "python",
   "pygments_lexer": "ipython3",
   "version": "3.8.20"
  }
 },
 "nbformat": 4,
 "nbformat_minor": 5
}
