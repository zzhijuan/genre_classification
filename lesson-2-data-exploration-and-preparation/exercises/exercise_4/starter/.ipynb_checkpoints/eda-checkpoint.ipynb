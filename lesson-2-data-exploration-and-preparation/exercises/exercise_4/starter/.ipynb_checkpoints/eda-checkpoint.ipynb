{
 "cells": [
  {
   "cell_type": "code",
   "execution_count": 3,
   "id": "7d7fcdb1-8bac-4c50-8caf-e1ea5ba8d271",
   "metadata": {},
   "outputs": [],
   "source": [
    "import pandas as pd\n",
    "import seaborn as sns\n",
    "from pandas_profiling import ProfileReport \n",
    "import wandb"
   ]
  },
  {
   "cell_type": "code",
   "execution_count": 4,
   "id": "c6ff0f8c-9b52-4bd7-b066-2344f2359808",
   "metadata": {},
   "outputs": [
    {
     "name": "stderr",
     "output_type": "stream",
     "text": [
      "\u001b[34m\u001b[1mwandb\u001b[0m: Currently logged in as: \u001b[33mzzhijuan\u001b[0m (\u001b[33mzzhijuan-university-of-houston\u001b[0m). Use \u001b[1m`wandb login --relogin`\u001b[0m to force relogin\n"
     ]
    },
    {
     "data": {
      "text/html": [
       "wandb version 0.19.3 is available!  To upgrade, please run:\n",
       " $ pip install wandb --upgrade"
      ],
      "text/plain": [
       "<IPython.core.display.HTML object>"
      ]
     },
     "metadata": {},
     "output_type": "display_data"
    },
    {
     "data": {
      "text/html": [
       "Tracking run with wandb version 0.16.4"
      ],
      "text/plain": [
       "<IPython.core.display.HTML object>"
      ]
     },
     "metadata": {},
     "output_type": "display_data"
    },
    {
     "data": {
      "text/html": [
       "Run data is saved locally in <code>/Users/zhijuanzhang/Documents/UdacityCourse/MLOps_P2_Reproducible_Pipeline/Exercise/lesson-2-data-exploration-and-preparation/exercises/exercise_4/starter/wandb/run-20250115_192459-a2hgl4rg</code>"
      ],
      "text/plain": [
       "<IPython.core.display.HTML object>"
      ]
     },
     "metadata": {},
     "output_type": "display_data"
    },
    {
     "data": {
      "text/html": [
       "Syncing run <strong><a href='https://wandb.ai/zzhijuan-university-of-houston/exercise_4/runs/a2hgl4rg' target=\"_blank\">glad-plasma-6</a></strong> to <a href='https://wandb.ai/zzhijuan-university-of-houston/exercise_4' target=\"_blank\">Weights & Biases</a> (<a href='https://wandb.me/run' target=\"_blank\">docs</a>)<br/>"
      ],
      "text/plain": [
       "<IPython.core.display.HTML object>"
      ]
     },
     "metadata": {},
     "output_type": "display_data"
    },
    {
     "data": {
      "text/html": [
       " View project at <a href='https://wandb.ai/zzhijuan-university-of-houston/exercise_4' target=\"_blank\">https://wandb.ai/zzhijuan-university-of-houston/exercise_4</a>"
      ],
      "text/plain": [
       "<IPython.core.display.HTML object>"
      ]
     },
     "metadata": {},
     "output_type": "display_data"
    },
    {
     "data": {
      "text/html": [
       " View run at <a href='https://wandb.ai/zzhijuan-university-of-houston/exercise_4/runs/a2hgl4rg' target=\"_blank\">https://wandb.ai/zzhijuan-university-of-houston/exercise_4/runs/a2hgl4rg</a>"
      ],
      "text/plain": [
       "<IPython.core.display.HTML object>"
      ]
     },
     "metadata": {},
     "output_type": "display_data"
    }
   ],
   "source": [
    "run = wandb.init(project = \"exercise_4\", group = \"experiment_1\", job_type = 'profiling', save_code=True)"
   ]
  },
  {
   "cell_type": "code",
   "execution_count": 5,
   "id": "60b4968d-d7bc-44a2-860c-ef879fbec97f",
   "metadata": {},
   "outputs": [],
   "source": [
    "artifact = run.use_artifact(\"genres_mod:latest\")"
   ]
  },
  {
   "cell_type": "code",
   "execution_count": 6,
   "id": "3dbda843-0a79-4954-92fc-14d424a247e7",
   "metadata": {},
   "outputs": [],
   "source": [
    "df = pd.read_parquet(artifact.file())"
   ]
  },
  {
   "cell_type": "code",
   "execution_count": null,
   "id": "256bc515-2bd7-4014-8bc6-18c9c96a60d1",
   "metadata": {},
   "outputs": [],
   "source": []
  }
 ],
 "metadata": {
  "kernelspec": {
   "display_name": "MLOps_env",
   "language": "python",
   "name": "mlops_env"
  },
  "language_info": {
   "codemirror_mode": {
    "name": "ipython",
    "version": 3
   },
   "file_extension": ".py",
   "mimetype": "text/x-python",
   "name": "python",
   "nbconvert_exporter": "python",
   "pygments_lexer": "ipython3",
   "version": "3.10.16"
  }
 },
 "nbformat": 4,
 "nbformat_minor": 5
}
